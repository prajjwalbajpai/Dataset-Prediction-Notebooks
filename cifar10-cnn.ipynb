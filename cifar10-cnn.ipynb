{
 "cells": [
  {
   "cell_type": "code",
   "execution_count": 1,
   "metadata": {},
   "outputs": [],
   "source": [
    "import numpy as np\n",
    "import matplotlib.pyplot as plt"
   ]
  },
  {
   "cell_type": "code",
   "execution_count": 2,
   "metadata": {},
   "outputs": [
    {
     "name": "stdout",
     "output_type": "stream",
     "text": [
      "dict_keys([b'batch_label', b'labels', b'data', b'filenames'])\n",
      "10000\n"
     ]
    }
   ],
   "source": [
    "def unpickle(file):\n",
    "   import pickle\n",
    "   with open(file, 'rb') as fo:\n",
    "      dict = pickle.load(fo, encoding='bytes')\n",
    "   return dict\n",
    "dict_1 = unpickle('cifar-10-batches-py/data_batch_1')\n",
    "dict_2 = unpickle('cifar-10-batches-py/data_batch_2')\n",
    "dict_3 = unpickle('cifar-10-batches-py/data_batch_3')\n",
    "dict_4 = unpickle('cifar-10-batches-py/data_batch_4')\n",
    "dict_5 = unpickle('cifar-10-batches-py/data_batch_5')\n",
    "\n",
    "\n",
    "print(dict_1.keys())\n",
    "print(len(dict_2[b'labels']))"
   ]
  },
  {
   "cell_type": "code",
   "execution_count": 3,
   "metadata": {},
   "outputs": [
    {
     "data": {
      "text/plain": [
       "[b'airplane',\n",
       " b'automobile',\n",
       " b'bird',\n",
       " b'cat',\n",
       " b'deer',\n",
       " b'dog',\n",
       " b'frog',\n",
       " b'horse',\n",
       " b'ship',\n",
       " b'truck']"
      ]
     },
     "execution_count": 3,
     "metadata": {},
     "output_type": "execute_result"
    }
   ],
   "source": [
    "fil = unpickle('cifar-10-batches-py/batches.meta')\n",
    "label_name = fil[b'label_names']\n",
    "label_name"
   ]
  },
  {
   "cell_type": "code",
   "execution_count": 4,
   "metadata": {},
   "outputs": [],
   "source": [
    "dict_6 = unpickle('cifar-10-batches-py/test_batch')\n",
    "img_test = dict_6[b'data']\n",
    "img_test = img_test.reshape(img_test.shape[0],3,32,32)\n",
    "val_test = dict_6[b'labels']\n",
    "val_test = np.array(val_test)"
   ]
  },
  {
   "cell_type": "code",
   "execution_count": 5,
   "metadata": {},
   "outputs": [
    {
     "data": {
      "text/plain": [
       "(50000, 3, 32, 32)"
      ]
     },
     "execution_count": 5,
     "metadata": {},
     "output_type": "execute_result"
    }
   ],
   "source": [
    "img1 = dict_1[b'data']\n",
    "img2 = dict_2[b'data']\n",
    "img3 = dict_3[b'data']\n",
    "img4 = dict_4[b'data']\n",
    "img5 = dict_5[b'data']\n",
    "img = np.concatenate((img1,img2,img3,img4,img5))\n",
    "img = img.reshape(img.shape[0],3,32,32)\n",
    "img.shape"
   ]
  },
  {
   "cell_type": "code",
   "execution_count": 6,
   "metadata": {},
   "outputs": [],
   "source": [
    "val1 = dict_1[b'labels']\n",
    "val2 = dict_2[b'labels']\n",
    "val3 = dict_3[b'labels']\n",
    "val4 = dict_4[b'labels']\n",
    "val5 = dict_5[b'labels']\n",
    "val = val1 +val2+val3+val4+val5\n",
    "val = np.array(val)\n"
   ]
  },
  {
   "cell_type": "code",
   "execution_count": 7,
   "metadata": {},
   "outputs": [
    {
     "name": "stdout",
     "output_type": "stream",
     "text": [
      "truck\n"
     ]
    },
    {
     "data": {
      "image/png": "[encoded data removed]",
      "text/plain": [
       "<Figure size 640x480 with 1 Axes>"
      ]
     },
     "metadata": {},
     "output_type": "display_data"
    }
   ],
   "source": [
    "def show_image(x):\n",
    "   x = x.transpose(1,2,0)\n",
    "   plt.imshow(x)\n",
    "print(label_name[val[1000]].decode(\"utf-8\"))\n",
    "show_image(img[1000])\n"
   ]
  },
  {
   "cell_type": "code",
   "execution_count": 8,
   "metadata": {},
   "outputs": [
    {
     "data": {
      "text/plain": [
       "(50000, 3, 32, 32)"
      ]
     },
     "execution_count": 8,
     "metadata": {},
     "output_type": "execute_result"
    }
   ],
   "source": [
    "img = img/255\n",
    "img_test = img_test/255\n",
    "img.shape"
   ]
  },
  {
   "cell_type": "markdown",
   "metadata": {},
   "source": [
    "Neural Network\n"
   ]
  },
  {
   "cell_type": "code",
   "execution_count": 9,
   "metadata": {},
   "outputs": [],
   "source": [
    "import torch\n",
    "import torch.nn as nn\n",
    "class NeuralNet(nn.Module):\n",
    "    def __init__(self, input_size, num_classes):\n",
    "        super(NeuralNet, self).__init__()\n",
    "        self.linear1 = nn.Linear(input_size, 3000)\n",
    "        self.relu = nn.ReLU()\n",
    "        self.linear2 = nn.Linear(3000, 1000)\n",
    "        self.final = nn.Linear(1000, num_classes)\n",
    "\n",
    "    def forward(self, x):\n",
    "        out = self.linear1(x)\n",
    "        out = self.relu(out)\n",
    "        out = self.linear2(out)\n",
    "        out = self.relu(out)\n",
    "        out = self.final(out)\n",
    "        \n",
    "        return out\n",
    "        "
   ]
  },
  {
   "cell_type": "code",
   "execution_count": 10,
   "metadata": {},
   "outputs": [],
   "source": [
    "X_train = torch.from_numpy(img)\n",
    "y_train = torch.from_numpy(val)\n",
    "X_test = torch.from_numpy(img_test)\n",
    "y_test = torch.from_numpy(val_test)"
   ]
  },
  {
   "cell_type": "code",
   "execution_count": 11,
   "metadata": {},
   "outputs": [
    {
     "data": {
      "text/plain": [
       "tensor(6, dtype=torch.int32)"
      ]
     },
     "execution_count": 11,
     "metadata": {},
     "output_type": "execute_result"
    }
   ],
   "source": [
    "device = 'cuda'\n",
    "input_size = 3072\n",
    "num_classes = 10\n",
    "num_epochs = 10\n",
    "batch_size = 32\n",
    "learning_rate = 0.001\n",
    "y_train[0]"
   ]
  },
  {
   "cell_type": "code",
   "execution_count": 12,
   "metadata": {},
   "outputs": [
    {
     "name": "stdout",
     "output_type": "stream",
     "text": [
      "epoch 1/10, loss = 2.2479\n",
      "epoch 2/10, loss = 2.1318\n",
      "epoch 3/10, loss = 2.0347\n",
      "epoch 4/10, loss = 1.9720\n",
      "epoch 5/10, loss = 1.9283\n",
      "epoch 6/10, loss = 1.8958\n",
      "epoch 7/10, loss = 1.8701\n",
      "epoch 8/10, loss = 1.8479\n",
      "epoch 9/10, loss = 1.8276\n",
      "epoch 10/10, loss = 1.8083\n"
     ]
    }
   ],
   "source": [
    "model = NeuralNet(input_size, num_classes).to(device)\n",
    "criterion = nn.CrossEntropyLoss()\n",
    "optimizer = torch.optim.SGD(model.parameters(), lr=learning_rate)\n",
    "\n",
    "n_total = len(X_train)\n",
    "for epoch in range(num_epochs):\n",
    "   running_loss = 0.0\n",
    "   cnt = 0\n",
    "   for start in range(0,n_total,batch_size):\n",
    "      X_batch = X_train[start:start+batch_size].flatten(start_dim=1).float().to(device)\n",
    "      y_batch = y_train[start:start+batch_size].to(torch.int64).to(device)\n",
    "         \n",
    "      output = model(X_batch)\n",
    "      loss = criterion(output, y_batch)\n",
    "      optimizer.zero_grad()\n",
    "      loss.backward()\n",
    "      optimizer.step()\n",
    "      running_loss+=loss.item()\n",
    "      cnt+=1\n",
    "   \n",
    "   print(f'epoch {epoch+1}/{num_epochs}, loss = {running_loss/cnt:.4f}')\n",
    "   running_loss=0\n",
    "   cnt=0"
   ]
  },
  {
   "cell_type": "code",
   "execution_count": 13,
   "metadata": {},
   "outputs": [
    {
     "name": "stdout",
     "output_type": "stream",
     "text": [
      "accuracy = 36.64\n"
     ]
    }
   ],
   "source": [
    "with torch.no_grad():\n",
    "   n_correct = 0\n",
    "   n_samples = len(y_test)\n",
    "   y_test = y_test.to(device)\n",
    "   for i in range(1):\n",
    "      X_t = X_test.flatten(start_dim=1).float().to(device)\n",
    "      output = model(X_t)\n",
    "      for i in range(output.shape[0]):\n",
    "         if(torch.argmax(output[i])==y_test[i]): \n",
    "            n_correct += 1\n",
    "   acc = 100*(n_correct / n_samples)\n",
    "   print(f'accuracy = {acc}')"
   ]
  },
  {
   "cell_type": "markdown",
   "metadata": {},
   "source": [
    "CNN"
   ]
  },
  {
   "cell_type": "code",
   "execution_count": 14,
   "metadata": {},
   "outputs": [
    {
     "data": {
      "text/plain": [
       "(50000, 3, 32, 32)"
      ]
     },
     "execution_count": 14,
     "metadata": {},
     "output_type": "execute_result"
    }
   ],
   "source": [
    "cnn_lr = 0.001\n",
    "cnn_epo = 10\n",
    "cnn_batsiz = 32\n",
    "img.shape"
   ]
  },
  {
   "cell_type": "code",
   "execution_count": 15,
   "metadata": {},
   "outputs": [],
   "source": [
    "class ConvNet(nn.Module):\n",
    "   def __init__(self):\n",
    "      super(ConvNet, self).__init__()\n",
    "      self.conv1 = nn.Conv2d(3,32,3)\n",
    "      self.pool = nn.MaxPool2d(2,2)\n",
    "      self.conv2 = nn.Conv2d(32, 64, 4)\n",
    "      self.fc1 = nn.Linear(64 * 6 * 6, 1000)\n",
    "      self.fc2 = nn.Linear(1000, 64)\n",
    "      self.fc3 = nn.Linear(64, 10)\n",
    "\n",
    "   def forward(self, x):\n",
    "      # -> n, 3, 32, 32\n",
    "      x = self.pool(nn.functional.relu(self.conv1(x)))  # -> n, 32, 15, 15\n",
    "      x = self.pool(nn.functional.relu(self.conv2(x)))  # -> n, 64, 6, 6\n",
    "      x = x.view(-1, 64 * 6 * 6)            # -> n, 2304\n",
    "      x = nn.functional.relu(self.fc1(x))               # -> n, 120\n",
    "      x = nn.functional.relu(self.fc2(x))               # -> n, 84\n",
    "      x = (self.fc3(x))                       # -> n, 10\n",
    "      return x"
   ]
  },
  {
   "cell_type": "code",
   "execution_count": 16,
   "metadata": {},
   "outputs": [
    {
     "name": "stdout",
     "output_type": "stream",
     "text": [
      "Epoch [1/10, Loss : 2.2666]\n",
      "Epoch [2/10, Loss : 1.9906]\n",
      "Epoch [3/10, Loss : 1.7354]\n",
      "Epoch [4/10, Loss : 1.5451]\n",
      "Epoch [5/10, Loss : 1.4352]\n",
      "Epoch [6/10, Loss : 1.3514]\n",
      "Epoch [7/10, Loss : 1.2752]\n",
      "Epoch [8/10, Loss : 1.2044]\n",
      "Epoch [9/10, Loss : 1.1374]\n",
      "Epoch [10/10, Loss : 1.0738]\n",
      "DONE\n"
     ]
    }
   ],
   "source": [
    "model = ConvNet().to(device)\n",
    "criterion = nn.CrossEntropyLoss()\n",
    "optimizer = torch.optim.adam(model.parameters(), lr=cnn_lr)\n",
    "\n",
    "for e in range(cnn_epo):\n",
    "   running_loss = 0.0\n",
    "   cnt=0\n",
    "   for start in range(0,n_total,cnn_batsiz):\n",
    "      X_batch = X_train[start:start+cnn_batsiz].float().to(device)\n",
    "      y_batch = y_train[start:start+cnn_batsiz].to(torch.int64).to(device)\n",
    "         \n",
    "      output = model(X_batch)\n",
    "      loss = criterion(output, y_batch)\n",
    "      optimizer.zero_grad()\n",
    "      loss.backward()\n",
    "      optimizer.step()\n",
    "      running_loss+=loss.item()\n",
    "      cnt+=1\n",
    "   print(f'Epoch [{e+1}/{cnn_epo}, Loss : {running_loss/cnt:.4f}]')\n",
    "   cnt=0\n",
    "print(\"DONE\")"
   ]
  },
  {
   "cell_type": "code",
   "execution_count": 17,
   "metadata": {},
   "outputs": [
    {
     "name": "stdout",
     "output_type": "stream",
     "text": [
      "Accuracy of the network: 61.0000 %\n",
      "Accuracy of airplane: 71.0000 %\n",
      "Accuracy of automobile: 82.2000 %\n",
      "Accuracy of bird: 40.1000 %\n",
      "Accuracy of cat: 39.4000 %\n",
      "Accuracy of deer: 57.4000 %\n",
      "Accuracy of dog: 40.6000 %\n",
      "Accuracy of frog: 71.6000 %\n",
      "Accuracy of horse: 79.4000 %\n",
      "Accuracy of ship: 68.0000 %\n",
      "Accuracy of truck: 60.3000 %\n"
     ]
    }
   ],
   "source": [
    "with torch.no_grad():\n",
    "   n_correct = 0\n",
    "   n_samples = len(y_test)\n",
    "   n_class_correct = [0 for i in range(10)]\n",
    "   n_class_samples = [0 for i in range(10)]\n",
    "   \n",
    "   for i in range(1):\n",
    "      X_t = X_test.float().to(device)\n",
    "      output = model(X_t)\n",
    "      for i in range(output.shape[0]):\n",
    "         if(torch.argmax(output[i])==y_test[i]): \n",
    "            n_correct += 1\n",
    "            n_class_correct[y_test[i]] +=1\n",
    "         n_class_samples[y_test[i]] +=1\n",
    "   acc = 100.0 * (n_correct / n_samples)\n",
    "   print(f'Accuracy of the network: {acc:.4f} %')\n",
    "\n",
    "   for i in range(10):\n",
    "      acc = 100.0 * (n_class_correct[i] / n_class_samples[i])\n",
    "      print(f'Accuracy of {label_name[i].decode(\"utf-8\")}: {acc:.4f} %')"
   ]
  }
 ],
 "metadata": {
  "kernelspec": {
   "display_name": "Python 3",
   "language": "python",
   "name": "python3"
  },
  "language_info": {
   "codemirror_mode": {
    "name": "ipython",
    "version": 3
   },
   "file_extension": ".py",
   "mimetype": "text/x-python",
   "name": "python",
   "nbconvert_exporter": "python",
   "pygments_lexer": "ipython3",
   "version": "3.9.19"
  }
 },
 "nbformat": 4,
 "nbformat_minor": 2
}
